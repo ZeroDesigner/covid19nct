{
 "cells": [
  {
   "cell_type": "code",
   "execution_count": null,
   "id": "56b44c50-c93a-46e2-893c-9f0e42013864",
   "metadata": {},
   "outputs": [],
   "source": []
  }
 ],
 "metadata": {
  "kernelspec": {
   "display_name": "Python 3",
   "language": "python",
   "name": "python3"
  },
  "language_info": {
   "name": ""
  }
 },
 "nbformat": 4,
 "nbformat_minor": 5
}
